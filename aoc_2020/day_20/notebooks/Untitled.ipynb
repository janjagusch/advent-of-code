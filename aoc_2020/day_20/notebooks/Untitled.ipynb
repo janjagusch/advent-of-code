{
 "cells": [
  {
   "cell_type": "markdown",
   "metadata": {},
   "source": [
    "# Day 20"
   ]
  },
  {
   "cell_type": "markdown",
   "metadata": {},
   "source": [
    "## Part 1"
   ]
  },
  {
   "cell_type": "code",
   "execution_count": 191,
   "metadata": {},
   "outputs": [],
   "source": [
    "from enum import Enum\n",
    "import math\n",
    "from itertools import product, islice"
   ]
  },
  {
   "cell_type": "code",
   "execution_count": 2,
   "metadata": {},
   "outputs": [],
   "source": [
    "import numpy as np"
   ]
  },
  {
   "cell_type": "code",
   "execution_count": 81,
   "metadata": {},
   "outputs": [],
   "source": [
    "def _process_raw_tile(raw_tile):\n",
    "    tile_id = int(raw_tile.split(\"\\n\")[0].replace(\"Tile \", \"\").replace(\":\", \"\"))\n",
    "    tile_data = np.array(tuple(tuple(1 if val == \"#\" else 0 for val in row) for row in raw_tile.split(\"\\n\")[1:] if row))\n",
    "    return tile_id, tile_data\n",
    "\n",
    "with open(\"../input.txt\", mode=\"r\") as file_pointer:\n",
    "    tiles = dict(_process_raw_tile(raw_tile) for raw_tile in file_pointer.read().split(\"\\n\\n\") if raw_tile)"
   ]
  },
  {
   "cell_type": "code",
   "execution_count": 82,
   "metadata": {},
   "outputs": [],
   "source": [
    "class Directions(Enum):\n",
    "    up = (-1, 0)\n",
    "    down = (1, 0)\n",
    "    right = (0, 1)\n",
    "    left = (0, -1)"
   ]
  },
  {
   "cell_type": "code",
   "execution_count": 83,
   "metadata": {},
   "outputs": [],
   "source": [
    "def tile_border(tile, direction):\n",
    "    if direction in (Directions.up, Directions.up.value):\n",
    "        border = (0, slice(None))\n",
    "    elif direction in (Directions.down, Directions.down.value):\n",
    "        border = (-1, slice(None))\n",
    "    elif direction in (Directions.right, Directions.right.value):\n",
    "        border = (slice(None), -1)\n",
    "    elif direction in (Directions.left, Directions.left.value):\n",
    "        border = (slice(None), 0)\n",
    "    else:\n",
    "        raise KeyError(direction)\n",
    "    return tile[border]\n",
    "\n",
    "\n",
    "def gen_borders(tile):\n",
    "    for direction in Directions:\n",
    "        yield tile_border(tile, direction)\n",
    "        \n",
    "def gen_all_borders(tile):\n",
    "    \"\"\"\n",
    "    Yields all borders, including the flipped ones.\n",
    "    \"\"\"\n",
    "    for border in gen_borders(tile):\n",
    "        yield border\n",
    "        yield border[::-1]"
   ]
  },
  {
   "cell_type": "code",
   "execution_count": 84,
   "metadata": {},
   "outputs": [],
   "source": [
    "tiles_borders = {\n",
    "    key: tuple(gen_all_borders(tile)) for key, tile in tiles.items()\n",
    "}"
   ]
  },
  {
   "cell_type": "code",
   "execution_count": 85,
   "metadata": {},
   "outputs": [],
   "source": [
    "def compatible_borders(borders_1, borders_2):\n",
    "    return any((border_1 == border_2).all() for border_2 in borders_2 for border_1 in borders_1)"
   ]
  },
  {
   "cell_type": "code",
   "execution_count": 86,
   "metadata": {},
   "outputs": [],
   "source": [
    "compatible_tiles = {\n",
    "    tile_id_1: set(tile_id_2 for tile_id_2, borders_2 in tiles_borders.items() if tile_id_1 != tile_id_2 and compatible_borders(borders_1, borders_2))\n",
    "    for tile_id_1, borders_1 in tiles_borders.items()\n",
    "}"
   ]
  },
  {
   "cell_type": "code",
   "execution_count": 87,
   "metadata": {},
   "outputs": [],
   "source": [
    "def gen_corner_tile_ids(compatible_tiles):\n",
    "    for tile_id, compatible_tile_ids in compatible_tiles.items():\n",
    "        if len(compatible_tile_ids) == 2:\n",
    "            yield tile_id"
   ]
  },
  {
   "cell_type": "code",
   "execution_count": 88,
   "metadata": {},
   "outputs": [
    {
     "data": {
      "text/plain": [
       "(1117, 1543, 1213, 1291)"
      ]
     },
     "execution_count": 88,
     "metadata": {},
     "output_type": "execute_result"
    }
   ],
   "source": [
    "tuple(gen_corner_tile_ids(compatible_tiles))"
   ]
  },
  {
   "cell_type": "code",
   "execution_count": 90,
   "metadata": {},
   "outputs": [],
   "source": [
    "def create_empty_image(n_tiles):\n",
    "    dim = int(math.sqrt(n_tiles))\n",
    "    return {(x, y): None for y in range(dim) for x in range(dim)}"
   ]
  },
  {
   "cell_type": "code",
   "execution_count": 91,
   "metadata": {},
   "outputs": [],
   "source": [
    "image = create_empty_image(len(tiles))"
   ]
  },
  {
   "cell_type": "code",
   "execution_count": 92,
   "metadata": {},
   "outputs": [],
   "source": [
    "def gen_neighbor_positions(position):\n",
    "    assert len(position) == 2\n",
    "    for direction in Directions:\n",
    "        direction = direction.value\n",
    "        yield direction, (position[0] + direction[0], position[1] + direction[1])\n",
    "    \n",
    "def gen_neighbors(position, image):\n",
    "    for direction, neighbor_position in gen_neighbor_positions(position):\n",
    "        if neighbor_position in image:\n",
    "            yield direction, neighbor_position, image[neighbor_position]"
   ]
  },
  {
   "cell_type": "code",
   "execution_count": 93,
   "metadata": {},
   "outputs": [],
   "source": [
    "availabe_corner_tile_ids = set(gen_corner_tile_ids(compatible_tiles))\n",
    "availabe_non_corner_tile_ids = set(tiles.keys())\n",
    "availabe_non_corner_tile_ids -= availabe_corner_tile_ids"
   ]
  },
  {
   "cell_type": "code",
   "execution_count": 94,
   "metadata": {},
   "outputs": [],
   "source": [
    "first_corner_tile = availabe_corner_tile_ids.pop()"
   ]
  },
  {
   "cell_type": "code",
   "execution_count": 95,
   "metadata": {},
   "outputs": [],
   "source": [
    "image[(0, 0)] = first_corner_tile"
   ]
  },
  {
   "cell_type": "code",
   "execution_count": 97,
   "metadata": {},
   "outputs": [],
   "source": [
    "def is_corner(position, image):\n",
    "    dim = int(math.sqrt(len(image)))\n",
    "    return position[0] in (0, dim - 1) and position[1] in (0, dim - 1)"
   ]
  },
  {
   "cell_type": "code",
   "execution_count": 98,
   "metadata": {},
   "outputs": [],
   "source": [
    "def calc_possible_tiles(position, image, available_corner_tiles, available_non_corner_tiles):\n",
    "    if is_corner(position, image):\n",
    "        possible_tiles = available_corner_tiles\n",
    "    else:\n",
    "        possible_tiles = available_non_corner_tiles\n",
    "    for _, _, neighbor_tile_id in gen_neighbors(position, image):\n",
    "        if neighbor_tile_id is not None:\n",
    "            possible_tiles = possible_tiles.intersection(compatible_tiles[neighbor_tile_id])\n",
    "    return position, possible_tiles\n",
    "\n",
    "\n",
    "def gen_possible_tiles(image, available_corner_tiles, available_non_corner_tiles):\n",
    "    for position, tile in image.items():\n",
    "        if tile is not None:\n",
    "            continue\n",
    "        yield calc_possible_tiles(position, image, available_corner_tiles, available_non_corner_tiles)\n",
    "        \n",
    "        \n",
    "def is_solvable(possible_tiles):\n",
    "    return all(len(val) > 0 for val in possible_tiles.values())"
   ]
  },
  {
   "cell_type": "code",
   "execution_count": 99,
   "metadata": {},
   "outputs": [],
   "source": [
    "possible_tiles = dict(gen_possible_tiles(image, availabe_corner_tile_ids, availabe_non_corner_tile_ids))"
   ]
  },
  {
   "cell_type": "code",
   "execution_count": 100,
   "metadata": {},
   "outputs": [
    {
     "data": {
      "text/plain": [
       "{1117, 1291, 1543}"
      ]
     },
     "execution_count": 100,
     "metadata": {},
     "output_type": "execute_result"
    }
   ],
   "source": [
    "availabe_corner_tile_ids"
   ]
  },
  {
   "cell_type": "code",
   "execution_count": 101,
   "metadata": {},
   "outputs": [
    {
     "data": {
      "text/plain": [
       "True"
      ]
     },
     "execution_count": 101,
     "metadata": {},
     "output_type": "execute_result"
    }
   ],
   "source": [
    "is_solvable(possible_tiles)"
   ]
  },
  {
   "cell_type": "code",
   "execution_count": 102,
   "metadata": {},
   "outputs": [],
   "source": [
    "def find_most_constrained_position(possible_tiles):\n",
    "    return min(possible_tiles, key=lambda key: len(possible_tiles[key]))"
   ]
  },
  {
   "cell_type": "code",
   "execution_count": 103,
   "metadata": {},
   "outputs": [
    {
     "data": {
      "text/plain": [
       "(1, 0)"
      ]
     },
     "execution_count": 103,
     "metadata": {},
     "output_type": "execute_result"
    }
   ],
   "source": [
    "find_most_constrained_position(possible_tiles)"
   ]
  },
  {
   "cell_type": "code",
   "execution_count": 104,
   "metadata": {},
   "outputs": [],
   "source": [
    "def is_complete(image):\n",
    "    return not any(tile is None for tile in image.values())"
   ]
  },
  {
   "cell_type": "code",
   "execution_count": 197,
   "metadata": {},
   "outputs": [],
   "source": [
    "def search(image, available_corner_tiles, available_non_corner_tiles):\n",
    "    \"\"\"\n",
    "    Finds the right position for each tile.\n",
    "    \"\"\"\n",
    "    if is_complete(image):\n",
    "        yield image\n",
    "        return\n",
    "    possible_tiles = dict(gen_possible_tiles(image, available_corner_tiles, available_non_corner_tiles))\n",
    "    if not is_solvable(possible_tiles):\n",
    "        return\n",
    "    position = find_most_constrained_position(possible_tiles)\n",
    "    available_tiles = possible_tiles[position]\n",
    "    for tile in available_tiles:\n",
    "        new_image = {**image, position: tile}\n",
    "        new_available_corner_tiles = available_corner_tiles - set([tile])\n",
    "        new_available_non_corner_tiles = available_non_corner_tiles - set([tile])\n",
    "        for solution in search(new_image, new_available_corner_tiles, new_available_non_corner_tiles):\n",
    "            yield solution"
   ]
  },
  {
   "cell_type": "code",
   "execution_count": 206,
   "metadata": {},
   "outputs": [],
   "source": [
    "def solve_part_one(image, available_corner_tiles, available_non_corner_tiles):\n",
    "    position_tiles = tuple(islice(search(image, availabe_corner_tile_ids, availabe_non_corner_tile_ids), 1))[0]\n",
    "    solution = math.prod(tile_id for position, tile_id in position_tiles.items() if is_corner(position, position_tiles))\n",
    "    return position_tiles, solution"
   ]
  },
  {
   "cell_type": "code",
   "execution_count": null,
   "metadata": {},
   "outputs": [],
   "source": []
  },
  {
   "cell_type": "code",
   "execution_count": 207,
   "metadata": {},
   "outputs": [],
   "source": [
    "position_tiles, solution_1 = solve_part_one(image, availabe_corner_tile_ids, availabe_non_corner_tile_ids)"
   ]
  },
  {
   "cell_type": "code",
   "execution_count": 209,
   "metadata": {},
   "outputs": [],
   "source": [
    "assert solution_1 == 2699020245973"
   ]
  },
  {
   "cell_type": "code",
   "execution_count": 210,
   "metadata": {},
   "outputs": [
    {
     "name": "stdout",
     "output_type": "stream",
     "text": [
      "The solution to part 1 is '2699020245973'.\n"
     ]
    }
   ],
   "source": [
    "print(f\"The solution to part 1 is '{solution_1}'.\")"
   ]
  },
  {
   "cell_type": "markdown",
   "metadata": {},
   "source": [
    "## Find Matching Variations"
   ]
  },
  {
   "cell_type": "code",
   "execution_count": 112,
   "metadata": {},
   "outputs": [],
   "source": [
    "def calc_variation(tile, flip_0, flip_1, rotation):\n",
    "    if flip_0:\n",
    "        tile = np.flip(tile, 0)\n",
    "    if flip_1:\n",
    "        tile = np.flip(tile, 1)\n",
    "    return np.rot90(tile, rotation)\n",
    "\n",
    "def gen_variations(tile):\n",
    "    for config in tuple(product(range(4), (False, True), (False, True))):\n",
    "        yield calc_variation(tile, *config)\n",
    "        \n",
    "INVERSE_DIRECTIONS = {\n",
    "    Directions.up: Directions.down,\n",
    "    Directions.down: Directions.up,\n",
    "    Directions.left: Directions.right,\n",
    "    Directions.right: Directions.left,\n",
    "    Directions.up.value: Directions.down,\n",
    "    Directions.down.value: Directions.up,\n",
    "    Directions.left.value: Directions.right,\n",
    "    Directions.right.value: Directions.left,\n",
    "}\n",
    "        \n",
    "def match_border(tile_1, tile_2, direction):\n",
    "    return (tile_border(tile_1, direction) == tile_border(tile_2, INVERSE_DIRECTIONS[direction])).all()\n",
    "\n",
    "\n",
    "def gen_matching_variations(tile_1, tile_2, direction):\n",
    "    for var_2 in gen_variations(tile_2):\n",
    "        if match_border(tile_1, var_2, direction):\n",
    "            yield var_2"
   ]
  },
  {
   "cell_type": "code",
   "execution_count": 214,
   "metadata": {},
   "outputs": [],
   "source": [
    "def calc_constrains(image):\n",
    "    return {\n",
    "        position: len(tuple(neighbor for _, _, neighbor in gen_neighbors(position, image) if neighbor is not None))\n",
    "        for position, tile in image.items()\n",
    "        if tile is None\n",
    "    }"
   ]
  },
  {
   "cell_type": "code",
   "execution_count": 215,
   "metadata": {},
   "outputs": [],
   "source": [
    "def search_variations(image, old_image):\n",
    "    \"\"\"\n",
    "    Search, but now for the variation of each tile.\n",
    "    \"\"\"\n",
    "    if is_complete(image):\n",
    "        yield image\n",
    "        return\n",
    "    constrains = calc_constrains(image)\n",
    "    position = max(constrains, key=constrains.get)\n",
    "    tile = tiles[old_image[position]]\n",
    "    possible_variations = tuple(gen_variations(tile))\n",
    "    for direction, neighbor_position, neighbor_tile in gen_neighbors(position, image):\n",
    "        if neighbor_tile is None:\n",
    "            continue\n",
    "        possible_variations = tuple(variation for variation in gen_matching_variations(neighbor_tile, tile, INVERSE_DIRECTIONS[direction]) if any((variation == other).all() for other in possible_variations))\n",
    "    for variation in possible_variations:\n",
    "        new_image = {**image, position: variation}\n",
    "        for solution in search_variations(new_image, old_image):\n",
    "            yield solution"
   ]
  },
  {
   "cell_type": "code",
   "execution_count": 220,
   "metadata": {},
   "outputs": [],
   "source": [
    "def calc_matching_variations(position_tiles):\n",
    "    start_position = (0, 0)\n",
    "    for variation in gen_variations(tiles[position_tiles[start_position]]):\n",
    "        new_image = {key: None for key in position_tiles}\n",
    "        new_image[start_position] = variation\n",
    "        solutions = tuple(islice(search_variations(new_image, position_tiles), 1))\n",
    "        if solutions:\n",
    "            return solutions[0]    "
   ]
  },
  {
   "cell_type": "code",
   "execution_count": 222,
   "metadata": {},
   "outputs": [],
   "source": [
    "position_variations = calc_matching_variations(position_tiles)"
   ]
  },
  {
   "cell_type": "markdown",
   "metadata": {},
   "source": [
    "## Reconstruct Image"
   ]
  },
  {
   "cell_type": "code",
   "execution_count": 225,
   "metadata": {},
   "outputs": [],
   "source": [
    "def remove_border(tile):\n",
    "    return tile[1:-1, 1:-1]"
   ]
  },
  {
   "cell_type": "code",
   "execution_count": 227,
   "metadata": {},
   "outputs": [
    {
     "data": {
      "text/plain": [
       "(96, 96)"
      ]
     },
     "execution_count": 227,
     "metadata": {},
     "output_type": "execute_result"
    }
   ],
   "source": [
    "def reconstruct_image(position_variations):\n",
    "    dim = int(math.sqrt(len(position_variations)))\n",
    "    return np.vstack(tuple(np.hstack(tuple(remove_border(position_variations[(x, y)]) for y in range(dim))) for x in range(dim)))\n",
    "\n",
    "reconstructed_image = reconstruct_image(position_variations)\n",
    "reconstructed_image.shape"
   ]
  },
  {
   "cell_type": "markdown",
   "metadata": {},
   "source": [
    "## Part 2"
   ]
  },
  {
   "cell_type": "code",
   "execution_count": 236,
   "metadata": {},
   "outputs": [],
   "source": [
    "sea_monster_str = \"\"\"\n",
    "                  # \n",
    "#    ##    ##    ###\n",
    " #  #  #  #  #  #   \n",
    "\"\"\".strip(\"\\n\")"
   ]
  },
  {
   "cell_type": "code",
   "execution_count": 237,
   "metadata": {},
   "outputs": [
    {
     "name": "stdout",
     "output_type": "stream",
     "text": [
      "                  # \n",
      "#    ##    ##    ###\n",
      " #  #  #  #  #  #   \n"
     ]
    }
   ],
   "source": [
    "print(sea_monster_str)"
   ]
  },
  {
   "cell_type": "code",
   "execution_count": 238,
   "metadata": {},
   "outputs": [],
   "source": [
    "sea_monster_image = np.array(tuple(tuple(val == \"#\" for val in row) for row in sea_monster_str.split(\"\\n\") if row))"
   ]
  },
  {
   "cell_type": "code",
   "execution_count": 239,
   "metadata": {},
   "outputs": [],
   "source": [
    "def gen_indices(shape1, shape2):\n",
    "    x1, y1 = shape1\n",
    "    x2, y2 = shape2\n",
    "    for x, y in product(range(x2, x1), range(y2, y1)):\n",
    "        yield (x - x2, x), (y - y2, y)\n",
    "        \n",
    "        \n",
    "def gen_slices(shape1, shape2):\n",
    "    for x, y in gen_indices(shape1, shape2):\n",
    "        yield slice(*x), slice(*y)\n",
    "        \n",
    "\n",
    "def gen_window_arrays(array, shape):\n",
    "    for slices in gen_slices(array.shape, shape):\n",
    "        yield array[slices]    "
   ]
  },
  {
   "cell_type": "code",
   "execution_count": 240,
   "metadata": {},
   "outputs": [],
   "source": [
    "def solve_part_two(reconstructed_image, sea_monster_image):\n",
    "    def sea_monster_in_section(section):\n",
    "        return ((section == sea_monster_image) | section).all()\n",
    "        \n",
    "    for variation in gen_variations(reconstructed_image):\n",
    "        sea_monsters_seen = len(tuple(section for section in gen_window_arrays(variation, sea_monster_image.shape) if sea_monster_in_section(section)))\n",
    "        if sea_monsters_seen:\n",
    "            break\n",
    "    return reconstructed_image.sum() - sea_monster_image.sum() * sea_monsters_seen"
   ]
  },
  {
   "cell_type": "code",
   "execution_count": 241,
   "metadata": {},
   "outputs": [
    {
     "name": "stdout",
     "output_type": "stream",
     "text": [
      "The solution to part 2 is '2012'.\n"
     ]
    }
   ],
   "source": [
    "print(f\"The solution to part 2 is '{solve_part_two(reconstructed_image, sea_monster_image)}'.\")"
   ]
  }
 ],
 "metadata": {
  "kernelspec": {
   "display_name": "aoc-2020-20",
   "language": "python",
   "name": "aoc-2020-20"
  },
  "language_info": {
   "codemirror_mode": {
    "name": "ipython",
    "version": 3
   },
   "file_extension": ".py",
   "mimetype": "text/x-python",
   "name": "python",
   "nbconvert_exporter": "python",
   "pygments_lexer": "ipython3",
   "version": "3.8.6"
  }
 },
 "nbformat": 4,
 "nbformat_minor": 4
}
