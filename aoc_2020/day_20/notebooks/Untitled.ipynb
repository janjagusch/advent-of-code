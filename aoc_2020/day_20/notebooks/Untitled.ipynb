{
 "cells": [
  {
   "cell_type": "code",
   "execution_count": 1,
   "metadata": {},
   "outputs": [],
   "source": [
    "from enum import Enum"
   ]
  },
  {
   "cell_type": "code",
   "execution_count": 2,
   "metadata": {},
   "outputs": [],
   "source": [
    "import numpy as np"
   ]
  },
  {
   "cell_type": "code",
   "execution_count": 3,
   "metadata": {},
   "outputs": [],
   "source": [
    "def _process_raw_tile(raw_tile):\n",
    "    tile_id = int(raw_tile.split(\"\\n\")[0].replace(\"Tile \", \"\").replace(\":\", \"\"))\n",
    "    tile_data = np.array(tuple(tuple(1 if val == \"#\" else 0 for val in row) for row in raw_tile.split(\"\\n\")[1:] if row))\n",
    "    return tile_id, tile_data\n",
    "\n",
    "with open(\"../test.txt\", mode=\"r\") as file_pointer:\n",
    "    tiles = dict(_process_raw_tile(raw_tile) for raw_tile in file_pointer.read().split(\"\\n\\n\") if raw_tile)"
   ]
  },
  {
   "cell_type": "code",
   "execution_count": 4,
   "metadata": {},
   "outputs": [],
   "source": [
    "class Directions(Enum):\n",
    "    up = (-1, 0)\n",
    "    down = (1, 0)\n",
    "    right = (0, 1)\n",
    "    left = (0, -1)"
   ]
  },
  {
   "cell_type": "code",
   "execution_count": 5,
   "metadata": {},
   "outputs": [],
   "source": [
    "def tile_border(tile, direction):\n",
    "    if direction in (Directions.up, Directions.up.value):\n",
    "        border = (0, slice(None))\n",
    "    elif direction in (Directions.down, Directions.down.value):\n",
    "        border = (-1, slice(None))\n",
    "    elif direction in (Directions.right, Directions.right.value):\n",
    "        border = (slice(None), -1)\n",
    "    elif direction in (Directions.left, Directions.left.value):\n",
    "        border = (slice(None), 0)\n",
    "    else:\n",
    "        raise KeyError(direction)\n",
    "    return tile[border]\n",
    "\n",
    "\n",
    "def gen_borders(tile):\n",
    "    for direction in Directions:\n",
    "        yield tile_border(tile, direction)\n",
    "        \n",
    "def gen_all_borders(tile):\n",
    "    \"\"\"\n",
    "    Yields all borders, including the flipped ones.\n",
    "    \"\"\"\n",
    "    for border in gen_borders(tile):\n",
    "        yield border\n",
    "        yield border[::-1]"
   ]
  },
  {
   "cell_type": "code",
   "execution_count": 6,
   "metadata": {},
   "outputs": [],
   "source": [
    "tiles_borders = {\n",
    "    key: tuple(gen_all_borders(tile)) for key, tile in tiles.items()\n",
    "}"
   ]
  },
  {
   "cell_type": "code",
   "execution_count": 7,
   "metadata": {},
   "outputs": [],
   "source": [
    "def compatible_borders(borders_1, borders_2):\n",
    "    return any((border_1 == border_2).all() for border_2 in borders_2 for border_1 in borders_1)"
   ]
  },
  {
   "cell_type": "code",
   "execution_count": 8,
   "metadata": {},
   "outputs": [],
   "source": [
    "compatible_tiles = {\n",
    "    tile_id_1: set(tile_id_2 for tile_id_2, borders_2 in tiles_borders.items() if tile_id_1 != tile_id_2 and compatible_borders(borders_1, borders_2))\n",
    "    for tile_id_1, borders_1 in tiles_borders.items()\n",
    "}"
   ]
  },
  {
   "cell_type": "code",
   "execution_count": 9,
   "metadata": {},
   "outputs": [],
   "source": [
    "def gen_corner_tile_ids(compatible_tiles):\n",
    "    for tile_id, compatible_tile_ids in compatible_tiles.items():\n",
    "        if len(compatible_tile_ids) == 2:\n",
    "            yield tile_id"
   ]
  },
  {
   "cell_type": "code",
   "execution_count": 10,
   "metadata": {},
   "outputs": [
    {
     "data": {
      "text/plain": [
       "(1951, 1171, 2971, 3079)"
      ]
     },
     "execution_count": 10,
     "metadata": {},
     "output_type": "execute_result"
    }
   ],
   "source": [
    "tuple(gen_corner_tile_ids(compatible_tiles))"
   ]
  },
  {
   "cell_type": "code",
   "execution_count": 11,
   "metadata": {},
   "outputs": [],
   "source": [
    "import math"
   ]
  },
  {
   "cell_type": "code",
   "execution_count": 12,
   "metadata": {},
   "outputs": [],
   "source": [
    "def create_empty_image(n_tiles):\n",
    "    dim = int(math.sqrt(n_tiles))\n",
    "    return {(x, y): None for y in range(dim) for x in range(dim)}"
   ]
  },
  {
   "cell_type": "code",
   "execution_count": 13,
   "metadata": {},
   "outputs": [],
   "source": [
    "image = create_empty_image(len(tiles))"
   ]
  },
  {
   "cell_type": "code",
   "execution_count": 14,
   "metadata": {},
   "outputs": [],
   "source": [
    "def gen_neighbor_positions(position):\n",
    "    assert len(position) == 2\n",
    "    for direction in Directions:\n",
    "        direction = direction.value\n",
    "        yield direction, (position[0] + direction[0], position[1] + direction[1])\n",
    "    \n",
    "def gen_neighbors(position, image):\n",
    "    for direction, neighbor_position in gen_neighbor_positions(position):\n",
    "        if neighbor_position in image:\n",
    "            yield direction, neighbor_position, image[neighbor_position]"
   ]
  },
  {
   "cell_type": "code",
   "execution_count": 15,
   "metadata": {},
   "outputs": [],
   "source": [
    "availabe_corner_tile_ids = set(gen_corner_tile_ids(compatible_tiles))\n",
    "availabe_non_corner_tile_ids = set(tiles.keys())\n",
    "availabe_non_corner_tile_ids -= availabe_corner_tile_ids"
   ]
  },
  {
   "cell_type": "code",
   "execution_count": 16,
   "metadata": {},
   "outputs": [],
   "source": [
    "first_corner_tile = availabe_corner_tile_ids.pop()"
   ]
  },
  {
   "cell_type": "code",
   "execution_count": 17,
   "metadata": {},
   "outputs": [],
   "source": [
    "image[(0, 0)] = first_corner_tile"
   ]
  },
  {
   "cell_type": "code",
   "execution_count": 18,
   "metadata": {},
   "outputs": [
    {
     "data": {
      "text/plain": [
       "{(0, 0): 3079,\n",
       " (1, 0): None,\n",
       " (2, 0): None,\n",
       " (0, 1): None,\n",
       " (1, 1): None,\n",
       " (2, 1): None,\n",
       " (0, 2): None,\n",
       " (1, 2): None,\n",
       " (2, 2): None}"
      ]
     },
     "execution_count": 18,
     "metadata": {},
     "output_type": "execute_result"
    }
   ],
   "source": [
    "image"
   ]
  },
  {
   "cell_type": "code",
   "execution_count": 19,
   "metadata": {},
   "outputs": [],
   "source": [
    "def is_corner(position, image):\n",
    "    dim = int(math.sqrt(len(image)))\n",
    "    return position[0] in (0, dim - 1) and position[1] in (0, dim - 1)"
   ]
  },
  {
   "cell_type": "code",
   "execution_count": 20,
   "metadata": {},
   "outputs": [],
   "source": [
    "def calc_possible_tiles(position, image, available_corner_tiles, available_non_corner_tiles):\n",
    "    if is_corner(position, image):\n",
    "        possible_tiles = available_corner_tiles\n",
    "    else:\n",
    "        possible_tiles = available_non_corner_tiles\n",
    "    for _, _, neighbor_tile_id in gen_neighbors(position, image):\n",
    "        if neighbor_tile_id is not None:\n",
    "            possible_tiles = possible_tiles.intersection(compatible_tiles[neighbor_tile_id])\n",
    "    return position, possible_tiles\n",
    "\n",
    "\n",
    "def gen_possible_tiles(image, available_corner_tiles, available_non_corner_tiles):\n",
    "    for position, tile in image.items():\n",
    "        if tile is not None:\n",
    "            continue\n",
    "        yield calc_possible_tiles(position, image, available_corner_tiles, available_non_corner_tiles)\n",
    "        \n",
    "        \n",
    "def is_solvable(possible_tiles):\n",
    "    return all(len(val) > 0 for val in possible_tiles.values())"
   ]
  },
  {
   "cell_type": "code",
   "execution_count": 21,
   "metadata": {},
   "outputs": [],
   "source": [
    "possible_tiles = dict(gen_possible_tiles(image, availabe_corner_tile_ids, availabe_non_corner_tile_ids))"
   ]
  },
  {
   "cell_type": "code",
   "execution_count": 22,
   "metadata": {},
   "outputs": [
    {
     "data": {
      "text/plain": [
       "{1171, 1951, 2971}"
      ]
     },
     "execution_count": 22,
     "metadata": {},
     "output_type": "execute_result"
    }
   ],
   "source": [
    "availabe_corner_tile_ids"
   ]
  },
  {
   "cell_type": "code",
   "execution_count": 23,
   "metadata": {},
   "outputs": [
    {
     "data": {
      "text/plain": [
       "True"
      ]
     },
     "execution_count": 23,
     "metadata": {},
     "output_type": "execute_result"
    }
   ],
   "source": [
    "is_solvable(possible_tiles)"
   ]
  },
  {
   "cell_type": "code",
   "execution_count": 24,
   "metadata": {},
   "outputs": [],
   "source": [
    "def find_most_constrained_position(possible_tiles):\n",
    "    return min(possible_tiles, key=lambda key: len(possible_tiles[key]))"
   ]
  },
  {
   "cell_type": "code",
   "execution_count": 25,
   "metadata": {},
   "outputs": [
    {
     "data": {
      "text/plain": [
       "(1, 0)"
      ]
     },
     "execution_count": 25,
     "metadata": {},
     "output_type": "execute_result"
    }
   ],
   "source": [
    "find_most_constrained_position(possible_tiles)"
   ]
  },
  {
   "cell_type": "code",
   "execution_count": 26,
   "metadata": {},
   "outputs": [],
   "source": [
    "def is_complete(image):\n",
    "    return not any(tile is None for tile in image.values())"
   ]
  },
  {
   "cell_type": "code",
   "execution_count": 27,
   "metadata": {},
   "outputs": [],
   "source": [
    "def search(image, available_corner_tiles, available_non_corner_tiles):\n",
    "    if is_complete(image):\n",
    "        yield image\n",
    "        return\n",
    "    possible_tiles = dict(gen_possible_tiles(image, available_corner_tiles, available_non_corner_tiles))\n",
    "    if not is_solvable(possible_tiles):\n",
    "        return\n",
    "    position = find_most_constrained_position(possible_tiles)\n",
    "    available_tiles = possible_tiles[position]\n",
    "    for tile in available_tiles:\n",
    "        new_image = {**image, position: tile}\n",
    "        new_available_corner_tiles = available_corner_tiles - set([tile])\n",
    "        new_available_non_corner_tiles = available_non_corner_tiles - set([tile])\n",
    "        for solution in search(new_image, new_available_corner_tiles, new_available_non_corner_tiles):\n",
    "            yield solution"
   ]
  },
  {
   "cell_type": "code",
   "execution_count": 28,
   "metadata": {},
   "outputs": [],
   "source": [
    "solution = tuple(search(image, availabe_corner_tile_ids, availabe_non_corner_tile_ids))[0]"
   ]
  },
  {
   "cell_type": "code",
   "execution_count": 29,
   "metadata": {},
   "outputs": [],
   "source": [
    "answer = math.prod(tile_id for position, tile_id in solution.items() if is_corner(position, solution))"
   ]
  },
  {
   "cell_type": "code",
   "execution_count": 30,
   "metadata": {},
   "outputs": [
    {
     "data": {
      "text/plain": [
       "20899048083289"
      ]
     },
     "execution_count": 30,
     "metadata": {},
     "output_type": "execute_result"
    }
   ],
   "source": [
    "answer"
   ]
  },
  {
   "cell_type": "code",
   "execution_count": null,
   "metadata": {},
   "outputs": [],
   "source": [
    "assert answer == 2699020245973"
   ]
  },
  {
   "cell_type": "code",
   "execution_count": 31,
   "metadata": {},
   "outputs": [],
   "source": [
    "from itertools import product"
   ]
  },
  {
   "cell_type": "code",
   "execution_count": 32,
   "metadata": {},
   "outputs": [
    {
     "data": {
      "text/plain": [
       "((0, False, False),\n",
       " (0, False, True),\n",
       " (0, True, False),\n",
       " (0, True, True),\n",
       " (1, False, False),\n",
       " (1, False, True),\n",
       " (1, True, False),\n",
       " (1, True, True),\n",
       " (2, False, False),\n",
       " (2, False, True),\n",
       " (2, True, False),\n",
       " (2, True, True),\n",
       " (3, False, False),\n",
       " (3, False, True),\n",
       " (3, True, False),\n",
       " (3, True, True))"
      ]
     },
     "execution_count": 32,
     "metadata": {},
     "output_type": "execute_result"
    }
   ],
   "source": [
    "tuple(product(range(4), (False, True), (False, True)))"
   ]
  },
  {
   "cell_type": "code",
   "execution_count": null,
   "metadata": {},
   "outputs": [],
   "source": []
  },
  {
   "cell_type": "code",
   "execution_count": 33,
   "metadata": {},
   "outputs": [],
   "source": [
    "def calc_variation(tile, flip_0, flip_1, rotation):\n",
    "    if flip_0:\n",
    "        tile = np.flip(tile, 0)\n",
    "    if flip_1:\n",
    "        tile = np.flip(tile, 1)\n",
    "    return np.rot90(tile, rotation)\n",
    "\n",
    "def gen_variations(tile):\n",
    "    for config in tuple(product(range(4), (False, True), (False, True))):\n",
    "        yield calc_variation(tile, *config)\n",
    "        \n",
    "INVERSE_DIRECTIONS = {\n",
    "    Directions.up: Directions.down,\n",
    "    Directions.down: Directions.up,\n",
    "    Directions.left: Directions.right,\n",
    "    Directions.right: Directions.left,\n",
    "    Directions.up.value: Directions.down,\n",
    "    Directions.down.value: Directions.up,\n",
    "    Directions.left.value: Directions.right,\n",
    "    Directions.right.value: Directions.left,\n",
    "}\n",
    "        \n",
    "def match_border(tile_1, tile_2, direction):\n",
    "    return (tile_border(tile_1, direction) == tile_border(tile_2, INVERSE_DIRECTIONS[direction])).all()\n",
    "\n",
    "\n",
    "def gen_matching_variations(tile_1, tile_2, direction):\n",
    "    for var_2 in gen_variations(tile_2):\n",
    "        if match_border(tile_1, var_2, direction):\n",
    "            yield var_2"
   ]
  },
  {
   "cell_type": "code",
   "execution_count": 34,
   "metadata": {},
   "outputs": [],
   "source": [
    "new_image = {key: None for key in solution}"
   ]
  },
  {
   "cell_type": "code",
   "execution_count": null,
   "metadata": {},
   "outputs": [],
   "source": []
  },
  {
   "cell_type": "code",
   "execution_count": 38,
   "metadata": {},
   "outputs": [],
   "source": [
    "# tuple(gen_matching_variations(tiles[1213], tiles[3373], Directions.right))"
   ]
  },
  {
   "cell_type": "code",
   "execution_count": 39,
   "metadata": {},
   "outputs": [],
   "source": [
    "def calc_constrains(image):\n",
    "    return {\n",
    "        position: len(tuple(neighbor for _, _, neighbor in gen_neighbors(position, image) if neighbor is not None))\n",
    "        for position, tile in image.items()\n",
    "        if tile is None\n",
    "    }\n",
    "\n",
    "def find_most_constrained_position(constrains):\n",
    "    return max(constrains, key=constrains.get)"
   ]
  },
  {
   "cell_type": "code",
   "execution_count": 40,
   "metadata": {},
   "outputs": [],
   "source": [
    "def search_2(image, old_image):\n",
    "    \"\"\"\n",
    "    Search, but now for the variation of each tile.\n",
    "    \"\"\"\n",
    "    if is_complete(image):\n",
    "        yield image\n",
    "        return\n",
    "    constrains = calc_constrains(image)\n",
    "    position = find_most_constrained_position(constrains)\n",
    "    tile = tiles[old_image[position]]\n",
    "    possible_variations = tuple(gen_variations(tile))\n",
    "    for direction, neighbor_position, neighbor_tile in gen_neighbors(position, image):\n",
    "        if neighbor_tile is None:\n",
    "            continue\n",
    "        possible_variations = tuple(variation for variation in gen_matching_variations(neighbor_tile, tile, INVERSE_DIRECTIONS[direction]) if any((variation == other).all() for other in possible_variations))\n",
    "    for variation in possible_variations:\n",
    "        new_image = {**image, position: variation}\n",
    "        for solution in search_2(new_image, old_image):\n",
    "            yield solution"
   ]
  },
  {
   "cell_type": "code",
   "execution_count": 41,
   "metadata": {},
   "outputs": [
    {
     "data": {
      "text/plain": [
       "()"
      ]
     },
     "execution_count": 41,
     "metadata": {},
     "output_type": "execute_result"
    }
   ],
   "source": [
    "start_position = (0, 0)\n",
    "new_image = {key: None for key in solution}\n",
    "new_image[start_position] = tiles[solution[start_position]]\n",
    "tuple(search_2(new_image, solution))"
   ]
  },
  {
   "cell_type": "code",
   "execution_count": 42,
   "metadata": {},
   "outputs": [],
   "source": [
    "from itertools import islice"
   ]
  },
  {
   "cell_type": "code",
   "execution_count": 43,
   "metadata": {},
   "outputs": [
    {
     "name": "stdout",
     "output_type": "stream",
     "text": [
      "0\n",
      "1\n",
      "2\n"
     ]
    }
   ],
   "source": [
    "start_position = (0, 0)\n",
    "for i, variation in enumerate(gen_variations(tiles[solution[start_position]])):\n",
    "    print(i)\n",
    "    new_image = {key: None for key in solution}\n",
    "    new_image[start_position] = variation\n",
    "    solutions = tuple(islice(search_2(new_image, solution), 1))\n",
    "    if solutions:\n",
    "        solution = solutions[0]\n",
    "        break"
   ]
  },
  {
   "cell_type": "code",
   "execution_count": 44,
   "metadata": {},
   "outputs": [
    {
     "data": {
      "text/plain": [
       "array([[0, 1, 1, 1, 1, 1, 0, 1, 0, 1],\n",
       "       [1, 1, 1, 1, 1, 1, 0, 0, 1, 0],\n",
       "       [0, 0, 0, 0, 0, 0, 0, 1, 0, 0],\n",
       "       [0, 0, 0, 0, 1, 1, 1, 1, 1, 1],\n",
       "       [0, 1, 0, 0, 1, 0, 1, 1, 1, 1],\n",
       "       [0, 1, 1, 0, 1, 0, 0, 0, 1, 0],\n",
       "       [1, 1, 0, 1, 1, 1, 1, 1, 0, 1],\n",
       "       [0, 0, 0, 1, 1, 1, 0, 1, 0, 0],\n",
       "       [0, 0, 0, 0, 0, 0, 0, 1, 0, 0],\n",
       "       [0, 0, 0, 1, 1, 1, 0, 1, 0, 0]])"
      ]
     },
     "execution_count": 44,
     "metadata": {},
     "output_type": "execute_result"
    }
   ],
   "source": [
    "solution[(0, 0)]"
   ]
  },
  {
   "cell_type": "code",
   "execution_count": 45,
   "metadata": {},
   "outputs": [
    {
     "data": {
      "text/plain": [
       "array([[1, 1, 1, 0, 0, 1, 1, 1, 0, 0],\n",
       "       [0, 1, 0, 1, 0, 0, 0, 1, 1, 1],\n",
       "       [0, 0, 1, 0, 0, 0, 0, 1, 0, 0],\n",
       "       [1, 1, 0, 0, 1, 0, 1, 0, 1, 0],\n",
       "       [1, 1, 1, 0, 1, 0, 0, 0, 1, 1],\n",
       "       [0, 1, 1, 1, 0, 1, 1, 0, 1, 1],\n",
       "       [1, 0, 0, 0, 1, 0, 1, 1, 1, 1],\n",
       "       [0, 1, 0, 0, 1, 1, 0, 0, 0, 1],\n",
       "       [0, 0, 0, 0, 0, 1, 0, 0, 1, 1],\n",
       "       [0, 1, 0, 0, 1, 0, 1, 1, 0, 0]])"
      ]
     },
     "execution_count": 45,
     "metadata": {},
     "output_type": "execute_result"
    }
   ],
   "source": [
    "solution[(0, 1)]"
   ]
  },
  {
   "cell_type": "code",
   "execution_count": 46,
   "metadata": {},
   "outputs": [
    {
     "data": {
      "text/plain": [
       "array([[0, 1, 0, 0, 1, 0, 1, 1, 0, 0],\n",
       "       [1, 0, 1, 1, 1, 0, 0, 1, 0, 0],\n",
       "       [0, 1, 0, 1, 1, 1, 1, 0, 1, 0],\n",
       "       [1, 1, 1, 1, 1, 0, 1, 0, 0, 0],\n",
       "       [0, 1, 1, 0, 0, 1, 1, 0, 0, 0],\n",
       "       [1, 1, 0, 0, 0, 1, 0, 0, 0, 0],\n",
       "       [1, 0, 1, 1, 0, 1, 0, 1, 0, 1],\n",
       "       [1, 0, 0, 1, 0, 1, 1, 0, 1, 0],\n",
       "       [0, 0, 1, 1, 0, 1, 0, 0, 1, 0],\n",
       "       [0, 0, 1, 0, 1, 1, 0, 1, 1, 1]])"
      ]
     },
     "execution_count": 46,
     "metadata": {},
     "output_type": "execute_result"
    }
   ],
   "source": [
    "solution[(1, 1)]"
   ]
  },
  {
   "cell_type": "code",
   "execution_count": 47,
   "metadata": {},
   "outputs": [],
   "source": [
    "def remove_border(tile):\n",
    "    return tile[1:-1, 1:-1]"
   ]
  },
  {
   "cell_type": "code",
   "execution_count": 48,
   "metadata": {},
   "outputs": [],
   "source": [
    "solution = {position: remove_border(tile) for position, tile in solution.items()}"
   ]
  },
  {
   "cell_type": "code",
   "execution_count": 49,
   "metadata": {},
   "outputs": [
    {
     "data": {
      "text/plain": [
       "array([[1, 1, 1, 1, 1, 0, 0, 1],\n",
       "       [0, 0, 0, 0, 0, 0, 1, 0],\n",
       "       [0, 0, 0, 1, 1, 1, 1, 1],\n",
       "       [1, 0, 0, 1, 0, 1, 1, 1],\n",
       "       [1, 1, 0, 1, 0, 0, 0, 1],\n",
       "       [1, 0, 1, 1, 1, 1, 1, 0],\n",
       "       [0, 0, 1, 1, 1, 0, 1, 0],\n",
       "       [0, 0, 0, 0, 0, 0, 1, 0]])"
      ]
     },
     "execution_count": 49,
     "metadata": {},
     "output_type": "execute_result"
    }
   ],
   "source": [
    "solution[(0, 0)]"
   ]
  },
  {
   "cell_type": "code",
   "execution_count": 52,
   "metadata": {},
   "outputs": [],
   "source": [
    "dim = int(math.sqrt(len(solution)))"
   ]
  },
  {
   "cell_type": "code",
   "execution_count": 53,
   "metadata": {},
   "outputs": [],
   "source": [
    "reconstructed_image = np.vstack(tuple(np.hstack(tuple(solution[(x, y)] for y in range(dim))) for x in range(dim)))"
   ]
  },
  {
   "cell_type": "code",
   "execution_count": 54,
   "metadata": {},
   "outputs": [
    {
     "name": "stdout",
     "output_type": "stream",
     "text": [
      "[[1 1 1 1 1 0 0 1 1 0 1 0 0 0 1 1 0 1 0 0 1 0 1 0]\n",
      " [0 0 0 0 0 0 1 0 0 1 0 0 0 0 1 0 1 0 0 0 0 1 1 1]\n",
      " [0 0 0 1 1 1 1 1 1 0 0 1 0 1 0 1 1 1 0 1 1 0 1 1]\n",
      " [1 0 0 1 0 1 1 1 1 1 0 1 0 0 0 1 1 1 1 1 0 1 1 1]\n",
      " [1 1 0 1 0 0 0 1 1 1 1 0 1 1 0 1 0 0 0 0 1 0 1 1]\n",
      " [1 0 1 1 1 1 1 0 0 0 0 1 0 1 1 1 1 1 1 1 1 0 0 0]\n",
      " [0 0 1 1 1 0 1 0 1 0 0 1 1 0 0 0 1 0 0 1 0 0 0 0]\n",
      " [0 0 0 0 0 0 1 0 0 0 0 0 1 0 0 1 0 0 0 1 1 1 1 0]\n",
      " [0 0 0 0 1 1 0 1 0 1 1 1 0 0 1 0 0 1 1 0 1 0 0 1]\n",
      " [0 0 1 1 1 0 1 0 1 0 1 1 1 1 0 1 0 0 1 1 1 1 0 1]\n",
      " [1 1 0 0 1 0 1 1 1 1 1 1 0 1 0 0 0 1 0 1 0 1 1 1]\n",
      " [1 0 1 1 1 1 1 1 1 1 0 0 1 1 0 0 0 0 1 1 1 1 0 1]\n",
      " [0 0 1 0 1 0 1 0 1 0 0 0 1 0 0 0 1 0 1 1 0 0 1 1]\n",
      " [1 1 1 0 1 1 1 0 0 1 1 0 1 0 1 0 0 1 0 0 1 0 0 0]\n",
      " [0 1 1 0 1 1 1 0 0 0 1 0 1 1 0 1 0 0 0 0 1 0 1 0]\n",
      " [0 0 1 1 1 1 1 1 0 1 1 0 1 0 0 1 0 0 0 1 0 1 1 1]\n",
      " [0 0 1 1 0 1 0 0 1 0 1 1 0 1 1 0 1 1 1 0 1 0 1 0]\n",
      " [1 0 1 0 0 1 0 1 1 1 0 0 0 1 0 1 1 1 0 1 1 1 1 0]\n",
      " [1 1 1 0 1 1 1 1 0 1 0 1 0 1 0 0 1 0 0 1 0 1 0 0]\n",
      " [0 1 1 1 0 1 1 1 0 1 0 1 0 1 0 0 0 1 1 1 1 0 0 1]\n",
      " [1 1 0 0 0 0 1 1 1 0 0 0 1 1 1 1 1 0 0 1 1 1 1 1]\n",
      " [1 0 0 0 1 1 1 1 0 0 1 0 0 0 1 0 0 1 0 0 1 1 0 1]\n",
      " [0 1 1 0 1 1 1 1 0 0 1 1 0 0 1 1 0 0 1 1 1 0 1 0]\n",
      " [1 1 1 0 0 1 0 0 0 1 0 0 0 1 1 0 0 0 1 1 1 0 0 0]]\n"
     ]
    }
   ],
   "source": [
    "print(reconstructed_image)"
   ]
  },
  {
   "cell_type": "markdown",
   "metadata": {},
   "source": [
    "## part 2"
   ]
  },
  {
   "cell_type": "code",
   "execution_count": 55,
   "metadata": {},
   "outputs": [],
   "source": [
    "sea_monster = \"\"\"\n",
    "                  # \n",
    "#    ##    ##    ###\n",
    " #  #  #  #  #  #   \n",
    "\"\"\".strip(\"\\n\")"
   ]
  },
  {
   "cell_type": "code",
   "execution_count": 56,
   "metadata": {},
   "outputs": [
    {
     "name": "stdout",
     "output_type": "stream",
     "text": [
      "                  # \n",
      "#    ##    ##    ###\n",
      " #  #  #  #  #  #   \n"
     ]
    }
   ],
   "source": [
    "print(sea_monster)"
   ]
  },
  {
   "cell_type": "code",
   "execution_count": 57,
   "metadata": {},
   "outputs": [],
   "source": [
    "sea_monster_arr = np.array(tuple(tuple(val == \"#\" for val in row) for row in sea_monster.split(\"\\n\")))"
   ]
  },
  {
   "cell_type": "code",
   "execution_count": 58,
   "metadata": {},
   "outputs": [
    {
     "name": "stdout",
     "output_type": "stream",
     "text": [
      "[[False False False False False False False False False False False False\n",
      "  False False False False False False  True False]\n",
      " [ True False False False False  True  True False False False False  True\n",
      "   True False False False False  True  True  True]\n",
      " [False  True False False  True False False  True False False  True False\n",
      "  False  True False False  True False False False]]\n"
     ]
    }
   ],
   "source": [
    "print(sea_monster_arr)"
   ]
  },
  {
   "cell_type": "code",
   "execution_count": 59,
   "metadata": {},
   "outputs": [
    {
     "data": {
      "text/plain": [
       "(3, 20)"
      ]
     },
     "execution_count": 59,
     "metadata": {},
     "output_type": "execute_result"
    }
   ],
   "source": [
    "sea_monster_arr.shape"
   ]
  },
  {
   "cell_type": "code",
   "execution_count": 60,
   "metadata": {},
   "outputs": [
    {
     "data": {
      "text/plain": [
       "array([[1, 1, 1, 1, 1, 0, 0, 1, 1, 0, 1, 0, 0, 0, 1, 1, 0, 1, 0, 0],\n",
       "       [0, 0, 0, 0, 0, 0, 1, 0, 0, 1, 0, 0, 0, 0, 1, 0, 1, 0, 0, 0],\n",
       "       [0, 0, 0, 1, 1, 1, 1, 1, 1, 0, 0, 1, 0, 1, 0, 1, 1, 1, 0, 1]])"
      ]
     },
     "execution_count": 60,
     "metadata": {},
     "output_type": "execute_result"
    }
   ],
   "source": [
    "reconstructed_image[:3, :20]"
   ]
  },
  {
   "cell_type": "code",
   "execution_count": 61,
   "metadata": {},
   "outputs": [
    {
     "data": {
      "text/plain": [
       "(24, 24)"
      ]
     },
     "execution_count": 61,
     "metadata": {},
     "output_type": "execute_result"
    }
   ],
   "source": [
    "reconstructed_image.shape"
   ]
  },
  {
   "cell_type": "code",
   "execution_count": 62,
   "metadata": {},
   "outputs": [],
   "source": [
    "def gen_indices(shape1, shape2):\n",
    "    x1, y1 = shape1\n",
    "    x2, y2 = shape2\n",
    "    for x in range(x2, x1):\n",
    "        for y in range(y2, y1):\n",
    "            yield (x - x2, x), (y - y2, y)\n",
    "        \n",
    "        \n",
    "def gen_slices(shape1, shape2):\n",
    "    for x, y in gen_indices(shape1, shape2):\n",
    "        yield slice(*x), slice(*y)"
   ]
  },
  {
   "cell_type": "code",
   "execution_count": 69,
   "metadata": {},
   "outputs": [],
   "source": [
    "reconstructed_image = reconstructed_image.astype(bool)"
   ]
  },
  {
   "cell_type": "code",
   "execution_count": 72,
   "metadata": {},
   "outputs": [
    {
     "data": {
      "text/plain": [
       "303"
      ]
     },
     "execution_count": 72,
     "metadata": {},
     "output_type": "execute_result"
    }
   ],
   "source": [
    "reconstructed_image.sum()"
   ]
  },
  {
   "cell_type": "code",
   "execution_count": 76,
   "metadata": {},
   "outputs": [
    {
     "data": {
      "text/plain": [
       "273"
      ]
     },
     "execution_count": 76,
     "metadata": {},
     "output_type": "execute_result"
    }
   ],
   "source": [
    "reconstructed_image.sum() - sea_monster_arr.sum() * 2"
   ]
  },
  {
   "cell_type": "code",
   "execution_count": 78,
   "metadata": {},
   "outputs": [],
   "source": [
    "for variation in gen_variations(reconstructed_image):\n",
    "    c = 0\n",
    "    for slices in tuple(gen_slices((reconstructed_image.shape), (3, 20))):\n",
    "        arr = variation[slices]\n",
    "        if ((arr == sea_monster_arr) | arr).all():\n",
    "            c += 1\n",
    "    if c:\n",
    "        print(reconstructed_image.sum() - sea_monster_arr.sum() * c"
   ]
  },
  {
   "cell_type": "code",
   "execution_count": null,
   "metadata": {},
   "outputs": [],
   "source": []
  },
  {
   "cell_type": "code",
   "execution_count": null,
   "metadata": {},
   "outputs": [],
   "source": [
    "for slices in tuple(gen_slices((96, 96), (3, 20))):\n",
    "    arr = reconstructed_image[slices]\n",
    "    if ((arr == sea_monster_arr) | arr).all():\n",
    "        print(arr)"
   ]
  }
 ],
 "metadata": {
  "kernelspec": {
   "display_name": "aoc-2020-20",
   "language": "python",
   "name": "aoc-2020-20"
  },
  "language_info": {
   "codemirror_mode": {
    "name": "ipython",
    "version": 3
   },
   "file_extension": ".py",
   "mimetype": "text/x-python",
   "name": "python",
   "nbconvert_exporter": "python",
   "pygments_lexer": "ipython3",
   "version": "3.8.6"
  }
 },
 "nbformat": 4,
 "nbformat_minor": 4
}
